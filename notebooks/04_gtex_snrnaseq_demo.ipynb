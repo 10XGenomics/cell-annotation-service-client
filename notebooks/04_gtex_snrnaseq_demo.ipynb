{
 "cells": [
  {
   "cell_type": "markdown",
   "id": "5433f5cc-c0e1-479a-aba3-20c92d8ff755",
   "metadata": {},
   "source": [
    "## CAS v1 Client Demo\n",
    "\n",
    "### Single-nucleus cross-tissue molecular reference maps to decipher disease gene function\n",
    "https://www.science.org/doi/10.1126/science.abl4290\n",
    "\n",
    "Understanding the function of genes and their regulation in tissue homeostasis and disease requires knowing the cellular context in which genes are expressed in tissues across the body. Single cell genomics allows the generation of detailed cellular atlases in human tissues, but most efforts are focused on single tissue types. Here, we establish a framework for profiling multiple tissues across the human body at single-cell resolution using single nucleus RNA-Seq (snRNA-seq), and apply it to 8 diverse, archived, frozen tissue types (three donors per tissue). We apply four snRNA-seq methods to each of 25 samples from 16 donors, generating a cross-tissue atlas of 209,126 nuclei profiles, and benchmark them vs. scRNA-seq of comparable fresh tissues. We use a conditional variational autoencoder (cVAE) to integrate an atlas across tissues, donors, and laboratory methods. We highlight shared and tissue-specific features of tissue-resident immune cells, identifying tissue-restricted and non-restricted resident myeloid populations. These include a cross-tissue conserved dichotomy between LYVE1- and HLA class II-expressing macrophages, and the broad presence of LAM-like macrophages across healthy tissues that is also observed in disease. For rare, monogenic muscle diseases, we identify cell types that likely underlie the neuromuscular, metabolic, and immune components of these diseases, and biological processes involved in their pathology. For common complex diseases and traits analyzed by GWAS, we identify the cell types and gene modules that potentially underlie disease mechanisms. The experimental and analytical frameworks we describe will enable the generation of large-scale studies of how cellular and molecular processes vary across individuals and populations.\n"
   ]
  },
  {
   "cell_type": "code",
   "execution_count": null,
   "id": "cb673f42-4e87-42dc-ac04-cd9bfc8caad6",
   "metadata": {},
   "outputs": [],
   "source": [
    "import os\n",
    "import sys\n",
    "import matplotlib.pylab as plt\n",
    "import scanpy as sc\n",
    "import numpy as np\n",
    "import pandas as pd\n",
    "import scipy.sparse as sp\n",
    "import warnings\n",
    "import anndata\n",
    "sys.path.append('../src')\n",
    "\n",
    "from cas_client_helper import *\n",
    "\n",
    "sc.settings.set_figure_params(dpi=80, facecolor='white')"
   ]
  },
  {
   "cell_type": "code",
   "execution_count": null,
   "id": "c992402a-5a3f-46ed-86d8-eee33f5138db",
   "metadata": {},
   "outputs": [],
   "source": [
    "adata_full = sc.read_h5ad('/home/jupyter/data/casp-cli-demo/a3ffde6c_gtex.h5ad')"
   ]
  },
  {
   "cell_type": "code",
   "execution_count": null,
   "id": "c6668e18-4561-46c6-bb0f-483e18657905",
   "metadata": {},
   "outputs": [],
   "source": [
    "ground_truth_cell_type_column = 'cell_type'"
   ]
  },
  {
   "cell_type": "markdown",
   "id": "8a15d19c-2fa3-4583-aa16-603a62afb394",
   "metadata": {},
   "source": [
    "## \"Ground Truth\" cell type labels"
   ]
  },
  {
   "cell_type": "code",
   "execution_count": null,
   "id": "f443328d-b228-45b0-9bfc-6a226fd5d56f",
   "metadata": {},
   "outputs": [],
   "source": [
    "sc.pl.umap(adata_full, color=ground_truth_cell_type_column)"
   ]
  },
  {
   "cell_type": "code",
   "execution_count": null,
   "id": "faf0cefd-4b92-4210-8c43-35fdba98f31a",
   "metadata": {},
   "outputs": [],
   "source": [
    "# subset\n",
    "rng = np.random.RandomState(42)\n",
    "n_random_cells = 20_000\n",
    "\n",
    "# select a small set of cells of the included types\n",
    "adata_subset = adata_full[rng.permutation(adata_full.shape[0])[:n_random_cells]]"
   ]
  },
  {
   "cell_type": "code",
   "execution_count": null,
   "id": "7c3f842b-666a-4cfc-b6ba-ebbc7f985dcf",
   "metadata": {},
   "outputs": [],
   "source": [
    "# validate and reformat adata\n",
    "adata = validate_adata_for_cas(\n",
    "    adata_subset,\n",
    "    int_count_matrix='X',\n",
    "    gene_symbols_column_name='feature_name',\n",
    "    gene_ids_column_name='__index__',\n",
    "    missing_features_policy='replace_with_zero',\n",
    "    extra_features_policy='ignore',\n",
    "    casp_feature_list_csv_path='../resources/casp_v1_feature_list.csv')"
   ]
  },
  {
   "cell_type": "code",
   "execution_count": null,
   "id": "a3d105c4-7638-4523-8d80-55a35932417f",
   "metadata": {},
   "outputs": [],
   "source": [
    "adata.raw = adata"
   ]
  },
  {
   "cell_type": "code",
   "execution_count": null,
   "id": "495ac460-4066-4bfb-a392-59eaefe2be48",
   "metadata": {},
   "outputs": [],
   "source": [
    "sc.pl.umap(adata, color=ground_truth_cell_type_column)"
   ]
  },
  {
   "cell_type": "markdown",
   "id": "51d228a8-5666-4dc5-9075-716967422606",
   "metadata": {},
   "source": [
    "## CAS"
   ]
  },
  {
   "cell_type": "code",
   "execution_count": null,
   "id": "81ee8b0b-1284-4c20-9acb-9eecb176567b",
   "metadata": {},
   "outputs": [],
   "source": [
    "!pip uninstall -y cell-annotation-service-client"
   ]
  },
  {
   "cell_type": "code",
   "execution_count": null,
   "id": "efddd82a-04a9-475d-bfce-9d94b7c9a90a",
   "metadata": {},
   "outputs": [],
   "source": [
    "!pip install git+https://github.com/broadinstitute/cell-annotation-service-client.git@fg-annotate"
   ]
  },
  {
   "cell_type": "code",
   "execution_count": null,
   "id": "23c54cfa-0266-42b5-b213-11e8239b8d07",
   "metadata": {},
   "outputs": [],
   "source": [
    "from casp_cli import service\n",
    "\n",
    "cli = service.CASPClientService()"
   ]
  },
  {
   "cell_type": "code",
   "execution_count": null,
   "id": "939b4769-f260-4839-affc-563ff4307da3",
   "metadata": {},
   "outputs": [],
   "source": [
    "# revert the raw adata (integer counts, no gene filter)\n",
    "adata_raw = adata.raw.to_adata().copy()\n",
    "adata_raw.raw = adata_raw\n",
    "\n",
    "warnings.simplefilter('ignore', anndata.ImplicitModificationWarning)\n",
    "cas_query_res = cli.annotate_anndata(adata_raw, chunk_size=2000)"
   ]
  },
  {
   "cell_type": "markdown",
   "id": "af715c99-519d-48a8-9fde-22c2d80e3682",
   "metadata": {},
   "source": [
    "## Explore CAS output"
   ]
  },
  {
   "cell_type": "code",
   "execution_count": null,
   "id": "541b541e-8ade-484c-aee4-42225e69b0e5",
   "metadata": {},
   "outputs": [],
   "source": [
    "# reduce annotations per cluster\n",
    "cluster_detailed_info_dict = reduce_cas_query_result_by_majority_vote_per_cluster(\n",
    "    adata, cas_query_res, cluster_key=ground_truth_cell_type_column, ignore_set={'native cell'})\n",
    "\n",
    "# visualize\n",
    "sc.pl.umap(adata, color='cas_per_cluster_cell_type')"
   ]
  },
  {
   "cell_type": "code",
   "execution_count": null,
   "id": "e6807fb9-503a-490f-bd6e-d9ca8139286b",
   "metadata": {},
   "outputs": [],
   "source": [
    "def highlight_cluster(\n",
    "        adata,\n",
    "        cluster_id,\n",
    "        ground_truth_cell_type_column='cell_type',\n",
    "        cas_cell_type_column='cas_per_cluster_cell_type',\n",
    "        top_k=10):\n",
    "    fig, ax = plt.subplots()\n",
    "    ax.scatter(adata.obsm['X_umap'][:, 0], adata.obsm['X_umap'][:, 1], s=2, edgecolor='none', color='gray', alpha=0.25)\n",
    "    adata_subset = adata[adata.obs[ground_truth_cell_type_column] == cluster_id]\n",
    "    ax.scatter(adata_subset.obsm['X_umap'][:, 0], adata_subset.obsm['X_umap'][:, 1], s=2, edgecolor='none', color='red', alpha=1.)\n",
    "    ax.grid(False)\n",
    "    ax.set_xlabel('UMAP 1')\n",
    "    ax.set_ylabel('UMAP 2')\n",
    "    plt.show()\n",
    "    print(f'GROUND TRUTH CELL TYPE:\\n{cluster_id}\\n')\n",
    "    print(f'{\"CAS CELL TYPE\":100s} {\"FREQUENCY\"}')\n",
    "    for cell_type, freq in cluster_detailed_info_dict[cluster_id][:top_k]:\n",
    "        print(f'{cell_type:100s} {freq:.4f}')\n",
    "    print()\n",
    "        \n",
    "for cluster_id in adata.obs['cell_type'].values.categories:\n",
    "    highlight_cluster(adata, cluster_id, ground_truth_cell_type_column=ground_truth_cell_type_column)"
   ]
  },
  {
   "cell_type": "code",
   "execution_count": null,
   "id": "9e744621-893d-4a46-a8fb-805e1a04d739",
   "metadata": {},
   "outputs": [],
   "source": []
  }
 ],
 "metadata": {
  "environment": {
   "kernel": "python3",
   "name": "common-cu113.m91",
   "type": "gcloud",
   "uri": "gcr.io/deeplearning-platform-release/base-cu113:m91"
  },
  "kernelspec": {
   "display_name": "Python 3",
   "language": "python",
   "name": "python3"
  },
  "language_info": {
   "codemirror_mode": {
    "name": "ipython",
    "version": 3
   },
   "file_extension": ".py",
   "mimetype": "text/x-python",
   "name": "python",
   "nbconvert_exporter": "python",
   "pygments_lexer": "ipython3",
   "version": "3.7.12"
  }
 },
 "nbformat": 4,
 "nbformat_minor": 5
}
