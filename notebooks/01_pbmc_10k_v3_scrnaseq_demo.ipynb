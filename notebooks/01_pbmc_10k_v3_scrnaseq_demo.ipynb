{
 "cells": [
  {
   "cell_type": "markdown",
   "id": "5433f5cc-c0e1-479a-aba3-20c92d8ff755",
   "metadata": {
    "tags": []
   },
   "source": [
    "## CAS v1 Client Demo\n",
    "\n",
    "`pbmc_10k_v3` dataset downloaded from 10x Genomics:\n",
    "\n",
    "https://support.10xgenomics.com/single-cell-gene-expression/datasets/3.0.0/pbmc_10k_v3"
   ]
  },
  {
   "cell_type": "code",
   "execution_count": null,
   "id": "cb673f42-4e87-42dc-ac04-cd9bfc8caad6",
   "metadata": {},
   "outputs": [],
   "source": [
    "import os\n",
    "import sys\n",
    "import matplotlib.pylab as plt\n",
    "import scanpy as sc\n",
    "import numpy as np\n",
    "import pandas as pd\n",
    "import scipy.sparse as sp\n",
    "sys.path.append('../src')\n",
    "\n",
    "from cas_client_helper import *\n",
    "\n",
    "sc.settings.set_figure_params(dpi=80, facecolor='white')"
   ]
  },
  {
   "cell_type": "code",
   "execution_count": null,
   "id": "c992402a-5a3f-46ed-86d8-eee33f5138db",
   "metadata": {},
   "outputs": [],
   "source": [
    "# load raw pbmc_10k_v3 data (downloaded from 10x Genomics website)\n",
    "adata_loaded = sc.read_10x_mtx(\n",
    "    '/home/jupyter/data/casp-cli-demo/pbmc_10k_v3',\n",
    "    var_names='gene_symbols',\n",
    "    cache=True)"
   ]
  },
  {
   "cell_type": "code",
   "execution_count": null,
   "id": "0480c6cf-a11f-49ca-aa3f-a9351c076537",
   "metadata": {},
   "outputs": [],
   "source": [
    "# validate and reformat adata\n",
    "adata = validate_adata_for_cas(\n",
    "    adata_loaded,\n",
    "    int_count_matrix='X',\n",
    "    gene_symbols_column_name='__index__',\n",
    "    gene_ids_column_name='gene_ids',\n",
    "    missing_features_policy='replace_with_zero',\n",
    "    extra_features_policy='ignore',\n",
    "    casp_feature_list_csv_path='../resources/casp_v1_feature_list.csv')"
   ]
  },
  {
   "cell_type": "code",
   "execution_count": null,
   "id": "2c790e4b-9aa5-4a38-871a-7394db04b49f",
   "metadata": {},
   "outputs": [],
   "source": [
    "# save the raw counts\n",
    "adata.raw = adata"
   ]
  },
  {
   "cell_type": "markdown",
   "id": "2e79b0a8-98b3-47df-ada5-30d0a032660f",
   "metadata": {
    "tags": []
   },
   "source": [
    "## The standard `scanpy` workflow\n",
    "\n",
    "basic cell QC, normalization, clustering, embedding"
   ]
  },
  {
   "cell_type": "code",
   "execution_count": null,
   "id": "b5af4fe2-d1c2-4070-a768-b9bd56e6ca65",
   "metadata": {},
   "outputs": [],
   "source": [
    "warnings.simplefilter('ignore', UserWarning)\n",
    "\n",
    "# basic cell QC\n",
    "sc.pp.filter_cells(adata, min_genes=1000)\n",
    "sc.pp.filter_genes(adata, min_cells=20)\n",
    "adata.var['mt'] = adata.var['gene_symbols'].str.startswith('MT-')\n",
    "sc.pp.calculate_qc_metrics(adata, qc_vars=['mt'], percent_top=None, log1p=False, inplace=True)\n",
    "\n",
    "# sc.pl.scatter(adata, x='total_counts', y='pct_counts_mt')\n",
    "# sc.pl.scatter(adata, x='total_counts', y='n_genes_by_counts')\n",
    "\n",
    "adata = adata[adata.obs.n_genes_by_counts < 4000, :]\n",
    "adata = adata[adata.obs.pct_counts_mt < 20, :]\n",
    "\n",
    "# feature selection\n",
    "sc.pp.normalize_total(adata)\n",
    "sc.pp.log1p(adata)\n",
    "sc.pp.highly_variable_genes(adata)\n",
    "\n",
    "# sc.pl.highly_variable_genes(adata)\n",
    "\n",
    "adata = adata[:, adata.var.highly_variable]\n",
    "sc.pp.scale(adata, max_value=10)\n",
    "\n",
    "# clustering\n",
    "sc.tl.pca(adata, svd_solver='arpack')\n",
    "\n",
    "# sc.pl.pca(adata, color='CST3', gene_symbols='gene_symbols')\n",
    "# sc.pl.pca_variance_ratio(adata, log=True)\n",
    "\n",
    "# embedding\n",
    "sc.pp.neighbors(adata, n_neighbors=100, n_pcs=40)\n",
    "sc.tl.umap(adata)"
   ]
  },
  {
   "cell_type": "code",
   "execution_count": null,
   "id": "6294b029-4da0-49fe-aa37-3b0fcebcbdc1",
   "metadata": {},
   "outputs": [],
   "source": [
    "sc.write('./data/pbmc_10k_v3_basic.h5ad', adata)"
   ]
  },
  {
   "cell_type": "markdown",
   "id": "3cbc3587-9238-429f-8085-e2ffb7e7e92a",
   "metadata": {},
   "source": [
    "## Exploring the raw data"
   ]
  },
  {
   "cell_type": "code",
   "execution_count": null,
   "id": "828162ff-80a3-4b8b-8c49-9804d1425a9a",
   "metadata": {},
   "outputs": [],
   "source": [
    "adata = sc.read('./data/pbmc_10k_v3_basic.h5ad')"
   ]
  },
  {
   "cell_type": "code",
   "execution_count": null,
   "id": "a15aff8a-9710-4204-baed-7a5dab469c23",
   "metadata": {},
   "outputs": [],
   "source": [
    "adata"
   ]
  },
  {
   "cell_type": "code",
   "execution_count": null,
   "id": "595310aa-0343-42af-a662-29b371b3c2fe",
   "metadata": {},
   "outputs": [],
   "source": [
    "sc.pl.umap(adata, color=['NKG7', 'CST3', 'CD79A', 'CD8A', 'CCR7'], gene_symbols='gene_symbols', use_raw=False)"
   ]
  },
  {
   "cell_type": "markdown",
   "id": "51d228a8-5666-4dc5-9075-716967422606",
   "metadata": {},
   "source": [
    "## Cell type assignment with CAS"
   ]
  },
  {
   "cell_type": "code",
   "execution_count": null,
   "id": "c0f06137-6000-4fcf-b74c-9609ea7f5016",
   "metadata": {},
   "outputs": [],
   "source": [
    "!pip uninstall -y cell-annotation-service-client"
   ]
  },
  {
   "cell_type": "code",
   "execution_count": null,
   "id": "efddd82a-04a9-475d-bfce-9d94b7c9a90a",
   "metadata": {},
   "outputs": [],
   "source": [
    "!pip install --upgrade git+https://github.com/broadinstitute/cell-annotation-service-client.git@fg-annotate"
   ]
  },
  {
   "cell_type": "code",
   "execution_count": null,
   "id": "23c54cfa-0266-42b5-b213-11e8239b8d07",
   "metadata": {},
   "outputs": [],
   "source": [
    "from casp_cli import service\n",
    "\n",
    "cli = service.CASPClientService()"
   ]
  },
  {
   "cell_type": "code",
   "execution_count": null,
   "id": "a34a18b9-78e7-424c-bfb4-fab0d6df7169",
   "metadata": {},
   "outputs": [],
   "source": [
    "# revert the raw adata (integer counts, no gene filter)\n",
    "adata_raw = adata.raw.to_adata().copy()\n",
    "adata_raw.raw = adata_raw\n",
    "\n",
    "cas_query_res = cli.annotate_anndata(adata_raw)"
   ]
  },
  {
   "cell_type": "markdown",
   "id": "ae746b35-340a-4f8e-a88c-3ce7102f0b81",
   "metadata": {},
   "source": [
    "## Explore CAS output"
   ]
  },
  {
   "cell_type": "code",
   "execution_count": null,
   "id": "155e42b5-a09c-4318-b5b7-b0103322d87c",
   "metadata": {},
   "outputs": [],
   "source": [
    "cas_query_res[0]"
   ]
  },
  {
   "cell_type": "code",
   "execution_count": null,
   "id": "66b848e5-5bb7-4c87-8bf7-ffd11711617a",
   "metadata": {},
   "outputs": [],
   "source": [
    "reduce_cas_query_result_by_majority_vote(adata, cas_query_res)\n",
    "sc.pl.umap(adata, color='cas_cell_type')"
   ]
  },
  {
   "cell_type": "code",
   "execution_count": null,
   "id": "b1e03212-f8af-41a9-b5a6-b43f216f9d1a",
   "metadata": {},
   "outputs": [],
   "source": [
    "# cluster\n",
    "sc.tl.leiden(adata, resolution=5.0)"
   ]
  },
  {
   "cell_type": "code",
   "execution_count": null,
   "id": "85cf3422-3610-4d50-b4fc-c2faed6cc0d9",
   "metadata": {},
   "outputs": [],
   "source": [
    "sc.pl.umap(adata, color='leiden')"
   ]
  },
  {
   "cell_type": "code",
   "execution_count": null,
   "id": "ce6fe0fa-d55f-473f-ba29-021d1d35c910",
   "metadata": {},
   "outputs": [],
   "source": [
    "# reduce annotations per cluster\n",
    "cluster_detailed_info_dict = reduce_cas_query_result_by_majority_vote_per_cluster(\n",
    "    adata, cas_query_res, cluster_key='leiden')\n",
    "\n",
    "# visualize\n",
    "sc.pl.umap(adata, color='cas_per_cluster_cell_type')"
   ]
  },
  {
   "cell_type": "code",
   "execution_count": null,
   "id": "46d836cb-0e78-46f0-9213-b4cb16e96697",
   "metadata": {},
   "outputs": [],
   "source": [
    "def highlight_cluster(adata, cluster_id, top_k=10):\n",
    "    fig, ax = plt.subplots()\n",
    "    ax.scatter(adata.obsm['X_umap'][:, 0], adata.obsm['X_umap'][:, 1], s=2, edgecolor='none', color='gray', alpha=0.25)\n",
    "    adata_subset = adata[adata.obs['leiden'] == cluster_id]\n",
    "    ax.scatter(adata_subset.obsm['X_umap'][:, 0], adata_subset.obsm['X_umap'][:, 1], s=2, edgecolor='none', color='red', alpha=1.)\n",
    "    ax.grid(False)\n",
    "    ax.set_xlabel('UMAP 1')\n",
    "    ax.set_ylabel('UMAP 2')\n",
    "    plt.show()\n",
    "    print(f'{\"CELL TYPE\":100s} {\"FREQUENCY\"}')\n",
    "    for cell_type, freq in cluster_detailed_info_dict[cluster_id][:top_k]:\n",
    "        print(f'{cell_type:100s} {freq:.4f}')\n",
    "    print()\n",
    "        \n",
    "for cluster_id in adata.obs['leiden'].values.categories:\n",
    "    highlight_cluster(adata, cluster_id)"
   ]
  },
  {
   "cell_type": "code",
   "execution_count": null,
   "id": "fcdcb562-5ce2-47c9-af2f-b8945aaffb34",
   "metadata": {},
   "outputs": [],
   "source": []
  }
 ],
 "metadata": {
  "environment": {
   "kernel": "python3",
   "name": "common-cu113.m91",
   "type": "gcloud",
   "uri": "gcr.io/deeplearning-platform-release/base-cu113:m91"
  },
  "kernelspec": {
   "display_name": "Python 3",
   "language": "python",
   "name": "python3"
  },
  "language_info": {
   "codemirror_mode": {
    "name": "ipython",
    "version": 3
   },
   "file_extension": ".py",
   "mimetype": "text/x-python",
   "name": "python",
   "nbconvert_exporter": "python",
   "pygments_lexer": "ipython3",
   "version": "3.7.12"
  }
 },
 "nbformat": 4,
 "nbformat_minor": 5
}
