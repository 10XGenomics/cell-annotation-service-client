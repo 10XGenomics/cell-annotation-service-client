{
 "cells": [
  {
   "cell_type": "markdown",
   "id": "5433f5cc-c0e1-479a-aba3-20c92d8ff755",
   "metadata": {},
   "source": [
    "## CAS v1 Client Demo\n",
    "\n",
    "### Single-nucleus profiling of human dilated and hypertrophic cardiomyopathy\n",
    "https://www.nature.com/articles/s41586-022-04817-8\n",
    "\n",
    "Heart failure encompasses a heterogeneous set of clinical features that converge on impaired cardiac contractile function1,2 and presents a growing public health concern. Previous work has highlighted changes in both transcription and protein expression in failing hearts3,4, but may overlook molecular changes in less prevalent cell types. Here we identify extensive molecular alterations in failing hearts at single-cell resolution by performing single-nucleus RNA sequencing of nearly 600,000 nuclei in left ventricle samples from 11 hearts with dilated cardiomyopathy and 15 hearts with hypertrophic cardiomyopathy as well as 16 non-failing hearts. The transcriptional profiles of dilated or hypertrophic cardiomyopathy hearts broadly converged at the tissue and cell-type level. Further, a subset of hearts from patients with cardiomyopathy harbour a unique population of activated fibroblasts that is almost entirely absent from non-failing samples. We performed a CRISPR-knockout screen in primary human cardiac fibroblasts to evaluate this fibrotic cell state transition; knockout of genes associated with fibroblast transition resulted in a reduction of myofibroblast cell-state transition upon TGFβ1 stimulation for a subset of genes. Our results provide insights into the transcriptional diversity of the human heart in health and disease as well as new potential therapeutic targets and biomarkers for heart failure."
   ]
  },
  {
   "cell_type": "code",
   "execution_count": null,
   "id": "cb673f42-4e87-42dc-ac04-cd9bfc8caad6",
   "metadata": {},
   "outputs": [],
   "source": [
    "import os\n",
    "import sys\n",
    "import matplotlib.pylab as plt\n",
    "import scanpy as sc\n",
    "import numpy as np\n",
    "import pandas as pd\n",
    "import scipy.sparse as sp\n",
    "import warnings\n",
    "import anndata\n",
    "sys.path.append('../src')\n",
    "\n",
    "from cas_client_helper import *\n",
    "\n",
    "sc.settings.set_figure_params(dpi=80, facecolor='white')"
   ]
  },
  {
   "cell_type": "code",
   "execution_count": null,
   "id": "c992402a-5a3f-46ed-86d8-eee33f5138db",
   "metadata": {},
   "outputs": [],
   "source": [
    "adata_full = sc.read_h5ad('/home/jupyter/data/casp-cli-demo/pcl_hcm_dcm.h5ad')"
   ]
  },
  {
   "cell_type": "code",
   "execution_count": null,
   "id": "7ce97300-6e1b-46d3-a81b-a622d6cdeaa9",
   "metadata": {},
   "outputs": [],
   "source": [
    "ground_truth_cell_type_column = 'leiden0.6_name'"
   ]
  },
  {
   "cell_type": "code",
   "execution_count": null,
   "id": "a16b8d3d-c0fb-413d-bf2a-3bb3619e7143",
   "metadata": {},
   "outputs": [],
   "source": [
    "adata_full.X = adata_full.layers['cellbender']"
   ]
  },
  {
   "cell_type": "markdown",
   "id": "8a15d19c-2fa3-4583-aa16-603a62afb394",
   "metadata": {},
   "source": [
    "## \"Ground Truth\" cell type labels"
   ]
  },
  {
   "cell_type": "code",
   "execution_count": null,
   "id": "17b34a21-16aa-49b9-afbf-79e3bcf3f6e7",
   "metadata": {},
   "outputs": [],
   "source": [
    "sc.pl.umap(adata_full, color=ground_truth_cell_type_column)"
   ]
  },
  {
   "cell_type": "code",
   "execution_count": null,
   "id": "faf0cefd-4b92-4210-8c43-35fdba98f31a",
   "metadata": {},
   "outputs": [],
   "source": [
    "# subset\n",
    "rng = np.random.RandomState(42)\n",
    "n_random_cells = 20_000\n",
    "\n",
    "# select a small set of cells of the included types\n",
    "adata_subset = adata_full[rng.permutation(adata_full.shape[0])[:n_random_cells]]"
   ]
  },
  {
   "cell_type": "code",
   "execution_count": null,
   "id": "7c3f842b-666a-4cfc-b6ba-ebbc7f985dcf",
   "metadata": {},
   "outputs": [],
   "source": [
    "# validate and reformat adata\n",
    "adata = validate_adata_for_cas(\n",
    "    adata_subset,\n",
    "    int_count_matrix='X',\n",
    "    gene_symbols_column_name='__index__',\n",
    "    gene_ids_column_name='gene_ids',\n",
    "    missing_features_policy='replace_with_zero',\n",
    "    extra_features_policy='ignore',\n",
    "    casp_feature_list_csv_path='../resources/casp_v1_feature_list.csv')"
   ]
  },
  {
   "cell_type": "code",
   "execution_count": null,
   "id": "a3d105c4-7638-4523-8d80-55a35932417f",
   "metadata": {},
   "outputs": [],
   "source": [
    "adata.raw = adata"
   ]
  },
  {
   "cell_type": "code",
   "execution_count": null,
   "id": "495ac460-4066-4bfb-a392-59eaefe2be48",
   "metadata": {},
   "outputs": [],
   "source": [
    "sc.pl.umap(adata, color=ground_truth_cell_type_column)"
   ]
  },
  {
   "cell_type": "markdown",
   "id": "51d228a8-5666-4dc5-9075-716967422606",
   "metadata": {},
   "source": [
    "## CAS"
   ]
  },
  {
   "cell_type": "code",
   "execution_count": null,
   "id": "cdb12758-29c1-4251-939d-493420167413",
   "metadata": {},
   "outputs": [],
   "source": [
    "!pip uninstall -y cell-annotation-service-client"
   ]
  },
  {
   "cell_type": "code",
   "execution_count": null,
   "id": "efddd82a-04a9-475d-bfce-9d94b7c9a90a",
   "metadata": {},
   "outputs": [],
   "source": [
    "!pip install git+https://github.com/broadinstitute/cell-annotation-service-client.git@fg-annotate"
   ]
  },
  {
   "cell_type": "code",
   "execution_count": null,
   "id": "23c54cfa-0266-42b5-b213-11e8239b8d07",
   "metadata": {},
   "outputs": [],
   "source": [
    "from casp_cli import service\n",
    "\n",
    "cli = service.CASPClientService()"
   ]
  },
  {
   "cell_type": "code",
   "execution_count": null,
   "id": "939b4769-f260-4839-affc-563ff4307da3",
   "metadata": {},
   "outputs": [],
   "source": [
    "# revert the raw adata (integer counts, no gene filter)\n",
    "adata_raw = adata.raw.to_adata().copy()\n",
    "adata_raw.raw = adata_raw\n",
    "\n",
    "warnings.simplefilter('ignore', anndata.ImplicitModificationWarning)\n",
    "cas_query_res = cli.annotate_anndata(adata_raw, chunk_size=2000)"
   ]
  },
  {
   "cell_type": "markdown",
   "id": "af715c99-519d-48a8-9fde-22c2d80e3682",
   "metadata": {},
   "source": [
    "## Explore CAS output"
   ]
  },
  {
   "cell_type": "code",
   "execution_count": null,
   "id": "541b541e-8ade-484c-aee4-42225e69b0e5",
   "metadata": {},
   "outputs": [],
   "source": [
    "# reduce annotations per cluster\n",
    "cluster_detailed_info_dict = reduce_cas_query_result_by_majority_vote_per_cluster(\n",
    "    adata, cas_query_res, cluster_key=ground_truth_cell_type_column, ignore_set={'native cell'})\n",
    "\n",
    "# visualize\n",
    "sc.pl.umap(adata, color='cas_per_cluster_cell_type')"
   ]
  },
  {
   "cell_type": "code",
   "execution_count": null,
   "id": "e6807fb9-503a-490f-bd6e-d9ca8139286b",
   "metadata": {},
   "outputs": [],
   "source": [
    "def highlight_cluster(\n",
    "        adata,\n",
    "        cluster_id,\n",
    "        ground_truth_cell_type_column='cell_type',\n",
    "        cas_cell_type_column='cas_per_cluster_cell_type',\n",
    "        top_k=10):\n",
    "    fig, ax = plt.subplots()\n",
    "    ax.scatter(adata.obsm['X_umap'][:, 0], adata.obsm['X_umap'][:, 1], s=2, edgecolor='none', color='gray', alpha=0.25)\n",
    "    adata_subset = adata[adata.obs[ground_truth_cell_type_column] == cluster_id]\n",
    "    ax.scatter(adata_subset.obsm['X_umap'][:, 0], adata_subset.obsm['X_umap'][:, 1], s=2, edgecolor='none', color='red', alpha=1.)\n",
    "    ax.grid(False)\n",
    "    ax.set_xlabel('UMAP 1')\n",
    "    ax.set_ylabel('UMAP 2')\n",
    "    plt.show()\n",
    "    print(f'GROUND TRUTH CELL TYPE:\\n{cluster_id}\\n')\n",
    "    print(f'{\"CAS CELL TYPE\":100s} {\"FREQUENCY\"}')\n",
    "    for cell_type, freq in cluster_detailed_info_dict[cluster_id][:top_k]:\n",
    "        print(f'{cell_type:100s} {freq:.4f}')\n",
    "    print()\n",
    "        \n",
    "for cluster_id in adata.obs[ground_truth_cell_type_column].values.categories:\n",
    "    highlight_cluster(adata, cluster_id, ground_truth_cell_type_column=ground_truth_cell_type_column)"
   ]
  },
  {
   "cell_type": "code",
   "execution_count": null,
   "id": "52aeaa19-1bdb-487b-a783-e2a741088189",
   "metadata": {},
   "outputs": [],
   "source": [
    "# visualize\n",
    "sc.pl.umap(adata, color='cas_per_cluster_cell_type_confidence_score')"
   ]
  },
  {
   "cell_type": "code",
   "execution_count": null,
   "id": "7401575d-d93f-49ae-b961-5e7be173898a",
   "metadata": {},
   "outputs": [],
   "source": []
  }
 ],
 "metadata": {
  "environment": {
   "kernel": "python3",
   "name": "common-cu113.m91",
   "type": "gcloud",
   "uri": "gcr.io/deeplearning-platform-release/base-cu113:m91"
  },
  "kernelspec": {
   "display_name": "Python 3",
   "language": "python",
   "name": "python3"
  },
  "language_info": {
   "codemirror_mode": {
    "name": "ipython",
    "version": 3
   },
   "file_extension": ".py",
   "mimetype": "text/x-python",
   "name": "python",
   "nbconvert_exporter": "python",
   "pygments_lexer": "ipython3",
   "version": "3.7.12"
  }
 },
 "nbformat": 4,
 "nbformat_minor": 5
}
